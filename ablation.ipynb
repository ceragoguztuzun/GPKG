{
 "cells": [
  {
   "cell_type": "code",
   "execution_count": 21,
   "metadata": {},
   "outputs": [],
   "source": [
    "# Define the path to the original KG file and the path for the new file\n",
    "input_file_path = 'aug/train_augmented_common_n.txt'\n",
    "output_file_path = 'ablation/neg_removed/train_augmented_common_n.txt'\n"
   ]
  },
  {
   "cell_type": "code",
   "execution_count": 22,
   "metadata": {},
   "outputs": [
    {
     "name": "stdout",
     "output_type": "stream",
     "text": [
      "Filtered KG triples have been saved to: ablation/neg_removed/train_augmented_common_n.txt\n"
     ]
    }
   ],
   "source": [
    "# Open the original KG file in read mode and the new file in write mode\n",
    "with open(input_file_path, 'r') as input_file, open(output_file_path, 'w') as output_file:\n",
    "    # Iterate over each line in the input file\n",
    "    for line in input_file:\n",
    "        # Split the line into a triple based on tabs\n",
    "        triple = line.strip().split('\\t')\n",
    "        \n",
    "        # Check if the triple has exactly 3 elements and the relation is not 'COUNTERFACTUAL_POSITIVE'\n",
    "        if len(triple) == 3 and triple[1] != 'COUNTERFACTUAL_NEGATIVE':\n",
    "            # Write the triple to the output file, rejoining the elements with tabs\n",
    "            output_file.write('\\t'.join(triple) + '\\n')\n",
    "\n",
    "print(\"Filtered KG triples have been saved to:\", output_file_path)\n"
   ]
  },
  {
   "cell_type": "code",
   "execution_count": null,
   "metadata": {},
   "outputs": [],
   "source": []
  }
 ],
 "metadata": {
  "kernelspec": {
   "display_name": "Python 3.11.3 64-bit",
   "language": "python",
   "name": "python3"
  },
  "language_info": {
   "codemirror_mode": {
    "name": "ipython",
    "version": 3
   },
   "file_extension": ".py",
   "mimetype": "text/x-python",
   "name": "python",
   "nbconvert_exporter": "python",
   "pygments_lexer": "ipython3",
   "version": "3.11.3"
  },
  "orig_nbformat": 4,
  "vscode": {
   "interpreter": {
    "hash": "b0fa6594d8f4cbf19f97940f81e996739fb7646882a419484c72d19e05852a7e"
   }
  }
 },
 "nbformat": 4,
 "nbformat_minor": 2
}
